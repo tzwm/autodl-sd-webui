{
 "cells": [
  {
   "cell_type": "markdown",
   "id": "61d904fe-155a-473f-8ab7-abb96f248f5d",
   "metadata": {
    "tags": []
   },
   "source": [
    "## 说明\n",
    "\n",
    "![](https://oss.talesofai.cn/public/s_2023-04-13%20at%2022.28.22.png?cc0429)\n",
    "- 启动和重启 webui 点上方工具栏中的「重启并运行所有单元格」。出现 `http://127.0.0.1:6006` 这个字样就算成功了。可以去 autodl 控制台打开「自定义服务」了。出现「OSError: Port 6006 is in use」，就再点一次\n",
    "- 镜像在 A5000, 3090, 3080 上测试没问题\n",
    "- 下载模型可以本地下载好后，上传到 `~/autodl-tmp/models` 里的对应目录下。通过左边的文件管理就可以进入并上传\n",
    "\n",
    "## 功能介绍\n",
    "\n",
    "- vladmandic/automatic \\[2023-05-28\\]\n",
    "- Python 3.10.11 + Torch 2.0.0 + cuda 11.8 + sdp\n",
    "- ControlNet v1.1 所有 model\n",
    "- 常用的插件，包括 tagcomplete、image browser、system-info、two shot、regional prompter\n",
    "- 包含一个常用的 VAE\n",
    "- 调整了 model 目录，用数据盘来存放各种 model 防止很快就空间不足\n",
    "- 调整了默认配置，支持 multiple ControlNet、增加了 ControlNet 缓存 model 数量等\n",
    "\n",
    "## 有问题请联系\n",
    "\n",
    "- Email：autodl_share@tzwm.me\n",
    "- GitHub: https://github.com/tzwm\n",
    "- 微信群：\n",
    "\n",
    "![](https://oss.talesofai.cn/public/qrcode_20230413-183818.png?cc0429)\n",
    "\n",
    "\n",
    "## ChangeLog\n",
    "\n",
    "- 20230528 v3.0(v3)\n",
    "  - 更新了 python 版本、vlad webui 版本\n",
    "  - 更新了各种脚本和模型等，基本同我另外一个 [A1111 镜像的 v10](https://www.codewithgpu.com/i/AUTOMATIC1111/stable-diffusion-webui/tzwm_sd_webui_A1111)\n",
    "- 20230429 v2.0\n",
    "  - 换成 vlad webui，换上了 controlnet v1.1，更新了模型下载方式等\n",
    "- 20230413 v1.0"
   ]
  },
  {
   "cell_type": "code",
   "execution_count": null,
   "id": "d09e6df8-aea3-46ad-8f3f-3b5670fbdbcd",
   "metadata": {},
   "outputs": [],
   "source": [
    "# 初始化\n",
    "!bash /root/tzwm_sd_webui_scripts/scripts/init-download.sh\n",
    "#!source /root/tzwm_sd_webui_scripts/scripts/init-proxy.sh"
   ]
  },
  {
   "cell_type": "code",
   "execution_count": null,
   "id": "e1bccb7d-b567-4652-9b44-bd8864531885",
   "metadata": {
    "tags": []
   },
   "outputs": [],
   "source": [
    "# 启动\n",
    "!source /root/tzwm_sd_webui_scripts/scripts/init-proxy.sh global && \\\n",
    "bash /root/tzwm_sd_webui_scripts/scripts/restart-webui.sh"
   ]
  },
  {
   "cell_type": "code",
   "execution_count": null,
   "id": "9f4c30c3-2bdc-4920-b88d-051abab3fcda",
   "metadata": {},
   "outputs": [],
   "source": []
  }
 ],
 "metadata": {
  "kernelspec": {
   "display_name": "Python 3 (ipykernel)",
   "language": "python",
   "name": "python3"
  },
  "language_info": {
   "codemirror_mode": {
    "name": "ipython",
    "version": 3
   },
   "file_extension": ".py",
   "mimetype": "text/x-python",
   "name": "python",
   "nbconvert_exporter": "python",
   "pygments_lexer": "ipython3",
   "version": "3.10.0"
  }
 },
 "nbformat": 4,
 "nbformat_minor": 5
}
