{
 "cells": [
  {
   "cell_type": "markdown",
   "id": "03808fd0-c96f-4729-96a8-9872abdfa3b6",
   "metadata": {},
   "source": [
    "![](https://oss.talesofai.cn/public/s_2023-04-13%20at%2022.28.22.png?cc0429)\n",
    "## 点击上面这个双箭头启动，启动成功后去 AutoDL 的面板上点「自定义服务」\n",
    "\n",
    "## 微信交流群\n",
    "![](https://oss.talesofai.cn/public/qrcode_20230413-183818.png)\n"
   ]
  },
  {
   "cell_type": "code",
   "execution_count": null,
   "id": "062b8ddc-b0c2-408e-9535-019486af3952",
   "metadata": {},
   "outputs": [],
   "source": [
    "!cd VisualGLM-6B && SAT_HOME=/root/sat_models python web_demo.py --share"
   ]
  }
 ],
 "metadata": {
  "kernelspec": {
   "display_name": "Python 3 (ipykernel)",
   "language": "python",
   "name": "python3"
  },
  "language_info": {
   "codemirror_mode": {
    "name": "ipython",
    "version": 3
   },
   "file_extension": ".py",
   "mimetype": "text/x-python",
   "name": "python",
   "nbconvert_exporter": "python",
   "pygments_lexer": "ipython3",
   "version": "3.10.8"
  }
 },
 "nbformat": 4,
 "nbformat_minor": 5
}
